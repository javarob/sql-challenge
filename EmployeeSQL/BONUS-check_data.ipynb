{
 "cells": [
  {
   "cell_type": "code",
   "execution_count": 14,
   "metadata": {},
   "outputs": [],
   "source": [
    "import matplotlib.pyplot as plt\n",
    "import pandas as pd\n",
    "import numpy as np\n",
    "\n",
    "import sys\n",
    "import os\n",
    "\n",
    "# Import id/pw\n",
    "from config import pwd\n",
    "from config import id\n",
    "\n",
    "connect_str = \"postgresql://\" + id + \":\" + pwd + \"@localhost:5432/EmployeeData\"\n",
    "\n",
    "from sqlalchemy import create_engine\n",
    "engine = create_engine(connect_str)\n",
    "#connection = engine.connect()\n",
    "\n"
   ]
  },
  {
   "cell_type": "code",
   "execution_count": 15,
   "metadata": {},
   "outputs": [],
   "source": [
    "con = engine.connect()"
   ]
  },
  {
   "cell_type": "code",
   "execution_count": 16,
   "metadata": {},
   "outputs": [
    {
     "data": {
      "text/html": [
       "<div>\n",
       "<style scoped>\n",
       "    .dataframe tbody tr th:only-of-type {\n",
       "        vertical-align: middle;\n",
       "    }\n",
       "\n",
       "    .dataframe tbody tr th {\n",
       "        vertical-align: top;\n",
       "    }\n",
       "\n",
       "    .dataframe thead th {\n",
       "        text-align: right;\n",
       "    }\n",
       "</style>\n",
       "<table border=\"1\" class=\"dataframe\">\n",
       "  <thead>\n",
       "    <tr style=\"text-align: right;\">\n",
       "      <th></th>\n",
       "      <th>title</th>\n",
       "      <th>salary</th>\n",
       "    </tr>\n",
       "  </thead>\n",
       "  <tbody>\n",
       "    <tr>\n",
       "      <th>0</th>\n",
       "      <td>Senior Engineer</td>\n",
       "      <td>60117</td>\n",
       "    </tr>\n",
       "    <tr>\n",
       "      <th>1</th>\n",
       "      <td>Senior Staff</td>\n",
       "      <td>78228</td>\n",
       "    </tr>\n",
       "    <tr>\n",
       "      <th>2</th>\n",
       "      <td>Staff</td>\n",
       "      <td>78228</td>\n",
       "    </tr>\n",
       "    <tr>\n",
       "      <th>3</th>\n",
       "      <td>Engineer</td>\n",
       "      <td>72488</td>\n",
       "    </tr>\n",
       "    <tr>\n",
       "      <th>4</th>\n",
       "      <td>Staff</td>\n",
       "      <td>42365</td>\n",
       "    </tr>\n",
       "  </tbody>\n",
       "</table>\n",
       "</div>"
      ],
      "text/plain": [
       "             title  salary\n",
       "0  Senior Engineer   60117\n",
       "1     Senior Staff   78228\n",
       "2            Staff   78228\n",
       "3         Engineer   72488\n",
       "4            Staff   42365"
      ]
     },
     "execution_count": 16,
     "metadata": {},
     "output_type": "execute_result"
    }
   ],
   "source": [
    "dep_data = pd.read_sql(\"select t.title, s.salary from titles as t join salaries as s on t.emp_no = s.emp_no\", con)\n",
    "dep_data.head()"
   ]
  },
  {
   "cell_type": "code",
   "execution_count": 17,
   "metadata": {},
   "outputs": [
    {
     "data": {
      "text/html": [
       "<div>\n",
       "<style scoped>\n",
       "    .dataframe tbody tr th:only-of-type {\n",
       "        vertical-align: middle;\n",
       "    }\n",
       "\n",
       "    .dataframe tbody tr th {\n",
       "        vertical-align: top;\n",
       "    }\n",
       "\n",
       "    .dataframe thead th {\n",
       "        text-align: right;\n",
       "    }\n",
       "</style>\n",
       "<table border=\"1\" class=\"dataframe\">\n",
       "  <thead>\n",
       "    <tr style=\"text-align: right;\">\n",
       "      <th></th>\n",
       "      <th>title</th>\n",
       "      <th>salary</th>\n",
       "    </tr>\n",
       "  </thead>\n",
       "  <tbody>\n",
       "    <tr>\n",
       "      <th>0</th>\n",
       "      <td>Assistant Engineer</td>\n",
       "      <td>48493.204786</td>\n",
       "    </tr>\n",
       "    <tr>\n",
       "      <th>1</th>\n",
       "      <td>Engineer</td>\n",
       "      <td>48539.781423</td>\n",
       "    </tr>\n",
       "    <tr>\n",
       "      <th>2</th>\n",
       "      <td>Manager</td>\n",
       "      <td>51531.041667</td>\n",
       "    </tr>\n",
       "    <tr>\n",
       "      <th>3</th>\n",
       "      <td>Senior Engineer</td>\n",
       "      <td>48506.751806</td>\n",
       "    </tr>\n",
       "    <tr>\n",
       "      <th>4</th>\n",
       "      <td>Senior Staff</td>\n",
       "      <td>58503.286614</td>\n",
       "    </tr>\n",
       "    <tr>\n",
       "      <th>5</th>\n",
       "      <td>Staff</td>\n",
       "      <td>58465.271904</td>\n",
       "    </tr>\n",
       "    <tr>\n",
       "      <th>6</th>\n",
       "      <td>Technique Leader</td>\n",
       "      <td>48580.505772</td>\n",
       "    </tr>\n",
       "  </tbody>\n",
       "</table>\n",
       "</div>"
      ],
      "text/plain": [
       "                title        salary\n",
       "0  Assistant Engineer  48493.204786\n",
       "1            Engineer  48539.781423\n",
       "2             Manager  51531.041667\n",
       "3     Senior Engineer  48506.751806\n",
       "4        Senior Staff  58503.286614\n",
       "5               Staff  58465.271904\n",
       "6    Technique Leader  48580.505772"
      ]
     },
     "execution_count": 17,
     "metadata": {},
     "output_type": "execute_result"
    }
   ],
   "source": [
    "sal_avg = dep_data.groupby(\"title\").mean().reset_index()\n",
    "sal_avg"
   ]
  },
  {
   "cell_type": "code",
   "execution_count": 18,
   "metadata": {},
   "outputs": [
    {
     "data": {
      "text/plain": [
       "([<matplotlib.axis.XTick at 0x17d661797b8>,\n",
       "  <matplotlib.axis.XTick at 0x17d62f45898>,\n",
       "  <matplotlib.axis.XTick at 0x17d65ca2320>,\n",
       "  <matplotlib.axis.XTick at 0x17d65edcc88>,\n",
       "  <matplotlib.axis.XTick at 0x17d6627b198>,\n",
       "  <matplotlib.axis.XTick at 0x17d6627b630>,\n",
       "  <matplotlib.axis.XTick at 0x17d6627bb38>],\n",
       " <a list of 7 Text xticklabel objects>)"
      ]
     },
     "execution_count": 18,
     "metadata": {},
     "output_type": "execute_result"
    },
    {
     "data": {
      "image/png": "[encoded data removed]",
      "text/plain": [
       "<Figure size 1440x216 with 1 Axes>"
      ]
     },
     "metadata": {
      "needs_background": "light"
     },
     "output_type": "display_data"
    }
   ],
   "source": [
    "# sal_avg = sal_avg.sort_values(by=['salary'], ascending=False)\n",
    "# # Set x axis and tick locations\n",
    "# x_axis = np.arange(len(by_country_mean[\"country\"]))\n",
    "# tick_locations = [value for value in x_axis]\n",
    "# # Create a list indicating where to write x labels and set figure size to adjust for space\n",
    "# plt.figure(figsize=(20,3))\n",
    "# plt.bar(x_axis, by_country_mean[\"points\"], color=\"r\", alpha=0.5, align=\"center\")\n",
    "# plt.xticks(tick_locations, by_country_mean[\"country\"], rotation=\"vertical\")\n",
    "\n",
    "sal_avg = sal_avg.sort_values(by=['salary'], ascending=False)\n",
    "# Set x axis and tick locations\n",
    "x_axis = np.arange(len(sal_avg[\"title\"]))\n",
    "tick_locations = [value for value in x_axis]\n",
    "plt.figure(figsize=(20,3))\n",
    "plt.bar(x_axis, sal_avg[\"salary\"], color=\"r\", alpha=0.5, align=\"center\")\n",
    "plt.xticks(tick_locations, sal_avg[\"title\"], rotation=\"vertical\")\n",
    "\n",
    "\n"
   ]
  },
  {
   "cell_type": "markdown",
   "metadata": {},
   "source": [
    "It appears that most of the technical staff are making the same average salary regardless of seniority.  In addition, the engineers and technique leaders are making less than all other types staff.  If I am id #499942 then my salary is 40k which is the least salary paid to anyone in the company. Time to get the resume in order..."
   ]
  },
  {
   "cell_type": "markdown",
   "metadata": {},
   "source": [
    "Steps to get this done:\n",
    "I had to install psycopg2 to connect to postgres.  \n",
    "Add a user/group & password to postgres.\n",
    "The user had to be granted access to the database.\n",
    "\n",
    "The data was then pulled into a dataframe via a select & join statemets\n",
    "The data was then averaged and grouped by title\n",
    "The plot was made via matplotlib\n"
   ]
  }
 ],
 "metadata": {
  "kernelspec": {
   "display_name": "Python 3",
   "language": "python",
   "name": "python3"
  },
  "language_info": {
   "codemirror_mode": {
    "name": "ipython",
    "version": 3
   },
   "file_extension": ".py",
   "mimetype": "text/x-python",
   "name": "python",
   "nbconvert_exporter": "python",
   "pygments_lexer": "ipython3",
   "version": "3.7.3"
  }
 },
 "nbformat": 4,
 "nbformat_minor": 2
}
